{
 "cells": [
  {
   "cell_type": "markdown",
   "metadata": {
    "colab_type": "text",
    "id": "iDSf-xiaqutb"
   },
   "source": [
    "#Tell Me a Story\n",
    "Children's story generator using a [GPT-2](https://openai.com/blog/better-language-models/) network fine-tuned on children's stories from the Guttenberg project (via [bAbI](https://research.fb.com/downloads/babi/)). This notebook will only work in full on [colab](colab.research.google.com), as it saves the resultant model to the user's google drive."
   ]
  },
  {
   "cell_type": "code",
   "execution_count": 1,
   "metadata": {
    "colab": {
     "base_uri": "https://localhost:8080/",
     "height": 632
    },
    "colab_type": "code",
    "executionInfo": {
     "elapsed": 9543,
     "status": "ok",
     "timestamp": 1575393976012,
     "user": {
      "displayName": "Randy West",
      "photoUrl": "https://lh3.googleusercontent.com/a-/AAuE7mDIuiLm_tLYhXcxAUMOdxogEndwhWVgfR12ND5xrw=s64",
      "userId": "12093252501908892059"
     },
     "user_tz": 300
    },
    "id": "mjXZ9EcYk_Qy",
    "outputId": "f8352801-35ee-49a5-9222-7b8ca13a75f8"
   },
   "outputs": [
    {
     "name": "stdout",
     "output_type": "stream",
     "text": [
      "Collecting transformers\n",
      "\u001b[?25l  Downloading https://files.pythonhosted.org/packages/70/1a/364556102943cacde1ee00fdcae3b1615b39e52649eddbf54953e5b144c9/transformers-2.2.1-py3-none-any.whl (364kB)\n",
      "\u001b[K     |████████████████████████████████| 368kB 6.4MB/s \n",
      "\u001b[?25hCollecting regex\n",
      "\u001b[?25l  Downloading https://files.pythonhosted.org/packages/e3/8e/cbf2295643d7265e7883326fb4654e643bfc93b3a8a8274d8010a39d8804/regex-2019.11.1-cp36-cp36m-manylinux1_x86_64.whl (643kB)\n",
      "\u001b[K     |████████████████████████████████| 645kB 45.8MB/s \n",
      "\u001b[?25hCollecting sacremoses\n",
      "\u001b[?25l  Downloading https://files.pythonhosted.org/packages/1f/8e/ed5364a06a9ba720fddd9820155cc57300d28f5f43a6fd7b7e817177e642/sacremoses-0.0.35.tar.gz (859kB)\n",
      "\u001b[K     |████████████████████████████████| 860kB 47.8MB/s \n",
      "\u001b[?25hRequirement already satisfied: tqdm in /usr/local/lib/python3.6/dist-packages (from transformers) (4.28.1)\n",
      "Requirement already satisfied: requests in /usr/local/lib/python3.6/dist-packages (from transformers) (2.21.0)\n",
      "Collecting sentencepiece\n",
      "\u001b[?25l  Downloading https://files.pythonhosted.org/packages/14/3d/efb655a670b98f62ec32d66954e1109f403db4d937c50d779a75b9763a29/sentencepiece-0.1.83-cp36-cp36m-manylinux1_x86_64.whl (1.0MB)\n",
      "\u001b[K     |████████████████████████████████| 1.0MB 41.0MB/s \n",
      "\u001b[?25hRequirement already satisfied: boto3 in /usr/local/lib/python3.6/dist-packages (from transformers) (1.10.18)\n",
      "Requirement already satisfied: numpy in /usr/local/lib/python3.6/dist-packages (from transformers) (1.17.4)\n",
      "Requirement already satisfied: six in /usr/local/lib/python3.6/dist-packages (from sacremoses->transformers) (1.12.0)\n",
      "Requirement already satisfied: click in /usr/local/lib/python3.6/dist-packages (from sacremoses->transformers) (7.0)\n",
      "Requirement already satisfied: joblib in /usr/local/lib/python3.6/dist-packages (from sacremoses->transformers) (0.14.0)\n",
      "Requirement already satisfied: chardet<3.1.0,>=3.0.2 in /usr/local/lib/python3.6/dist-packages (from requests->transformers) (3.0.4)\n",
      "Requirement already satisfied: idna<2.9,>=2.5 in /usr/local/lib/python3.6/dist-packages (from requests->transformers) (2.8)\n",
      "Requirement already satisfied: certifi>=2017.4.17 in /usr/local/lib/python3.6/dist-packages (from requests->transformers) (2019.9.11)\n",
      "Requirement already satisfied: urllib3<1.25,>=1.21.1 in /usr/local/lib/python3.6/dist-packages (from requests->transformers) (1.24.3)\n",
      "Requirement already satisfied: botocore<1.14.0,>=1.13.18 in /usr/local/lib/python3.6/dist-packages (from boto3->transformers) (1.13.18)\n",
      "Requirement already satisfied: jmespath<1.0.0,>=0.7.1 in /usr/local/lib/python3.6/dist-packages (from boto3->transformers) (0.9.4)\n",
      "Requirement already satisfied: s3transfer<0.3.0,>=0.2.0 in /usr/local/lib/python3.6/dist-packages (from boto3->transformers) (0.2.1)\n",
      "Requirement already satisfied: python-dateutil<2.8.1,>=2.1; python_version >= \"2.7\" in /usr/local/lib/python3.6/dist-packages (from botocore<1.14.0,>=1.13.18->boto3->transformers) (2.6.1)\n",
      "Requirement already satisfied: docutils<0.16,>=0.10 in /usr/local/lib/python3.6/dist-packages (from botocore<1.14.0,>=1.13.18->boto3->transformers) (0.15.2)\n",
      "Building wheels for collected packages: sacremoses\n",
      "  Building wheel for sacremoses (setup.py) ... \u001b[?25l\u001b[?25hdone\n",
      "  Created wheel for sacremoses: filename=sacremoses-0.0.35-cp36-none-any.whl size=883999 sha256=811c446dfa8615d78c8423b2fe21036decc053531391ff8bf354932c80973d98\n",
      "  Stored in directory: /root/.cache/pip/wheels/63/2a/db/63e2909042c634ef551d0d9ac825b2b0b32dede4a6d87ddc94\n",
      "Successfully built sacremoses\n",
      "Installing collected packages: regex, sacremoses, sentencepiece, transformers\n",
      "Successfully installed regex-2019.11.1 sacremoses-0.0.35 sentencepiece-0.1.83 transformers-2.2.1\n"
     ]
    }
   ],
   "source": [
    "! pip install transformers"
   ]
  },
  {
   "cell_type": "code",
   "execution_count": 2,
   "metadata": {
    "colab": {
     "base_uri": "https://localhost:8080/",
     "height": 136
    },
    "colab_type": "code",
    "executionInfo": {
     "elapsed": 6641,
     "status": "ok",
     "timestamp": 1575393988458,
     "user": {
      "displayName": "Randy West",
      "photoUrl": "https://lh3.googleusercontent.com/a-/AAuE7mDIuiLm_tLYhXcxAUMOdxogEndwhWVgfR12ND5xrw=s64",
      "userId": "12093252501908892059"
     },
     "user_tz": 300
    },
    "id": "adVRYBGrlI8E",
    "outputId": "09a8a95e-32ae-45a9-cbfc-5b6808655408"
   },
   "outputs": [
    {
     "name": "stdout",
     "output_type": "stream",
     "text": [
      "Cloning into 'transformers'...\n",
      "remote: Enumerating objects: 22, done.\u001b[K\n",
      "remote: Counting objects: 100% (22/22), done.\u001b[K\n",
      "remote: Compressing objects: 100% (20/20), done.\u001b[K\n",
      "remote: Total 13211 (delta 6), reused 8 (delta 2), pack-reused 13189\u001b[K\n",
      "Receiving objects: 100% (13211/13211), 7.98 MiB | 9.42 MiB/s, done.\n",
      "Resolving deltas: 100% (9630/9630), done.\n"
     ]
    }
   ],
   "source": [
    "# there's a small possibility this might be breaking out of sync with\n",
    "# the pip module. that being the case, either checkout the latest release\n",
    "# of the git repo (--branch \"vx.x.x\") or build the module from the repo\n",
    "# (see its readme for details)\n",
    "! rm -rf transformers\n",
    "! git clone https://github.com/huggingface/transformers.git"
   ]
  },
  {
   "cell_type": "code",
   "execution_count": 0,
   "metadata": {
    "colab": {},
    "colab_type": "code",
    "id": "2OjoMAt8lNCz"
   },
   "outputs": [],
   "source": [
    "# get the data\n",
    "import re\n",
    "from requests import get\n",
    "\n",
    "url = \"http://www.thespermwhale.com/jaseweston/babi/CBTest.tgz\"\n",
    "fn = re.search(\"[^/]+$\", url).group(0)\n",
    "response = get(url)\n",
    "with open(fn, \"wb\") as f:\n",
    "  f.write(response.content)\n",
    "\n",
    "! tar xfz {fn} 2> /dev/null"
   ]
  },
  {
   "cell_type": "code",
   "execution_count": 4,
   "metadata": {
    "colab": {
     "base_uri": "https://localhost:8080/",
     "height": 85
    },
    "colab_type": "code",
    "executionInfo": {
     "elapsed": 31943,
     "status": "ok",
     "timestamp": 1575394018792,
     "user": {
      "displayName": "Randy West",
      "photoUrl": "https://lh3.googleusercontent.com/a-/AAuE7mDIuiLm_tLYhXcxAUMOdxogEndwhWVgfR12ND5xrw=s64",
      "userId": "12093252501908892059"
     },
     "user_tz": 300
    },
    "id": "2Qk8WRnPlUyb",
    "outputId": "053bfe32-3bf3-4e4c-f692-47e21a8a97c5"
   },
   "outputs": [
    {
     "name": "stdout",
     "output_type": "stream",
     "text": [
      "Cleaning training data\n",
      "280165it [00:00, 496523.64it/s]\n",
      "Cleaning validation data\n",
      "12742it [00:00, 408095.83it/s]\n"
     ]
    }
   ],
   "source": [
    "# munge it\n",
    "from pathlib import PosixPath\n",
    "from os import makedirs\n",
    "\n",
    "data_path = PosixPath(\"/content/CBTest/data\")\n",
    "makedirs(data_path/\"train\", exist_ok=True)\n",
    "makedirs(data_path/\"valid\", exist_ok=True)\n",
    "cbt_train_file = data_path/\"train/cbt_train_cleaned.txt\"\n",
    "cbt_valid_file = data_path/\"valid/cbt_valid_cleaned.txt\"\n",
    "# we don't care about test, so add it to the train set\n",
    "! echo \"Cleaning training data\"\n",
    "! cat {data_path}/cbt_train.txt {data_path}/cbt_test.txt | tqdm | grep -v _BOOK_TITLE | \\\n",
    "perl -pe 's/-L[CS]B-.*?-R[CS]B-//g; s/-L[CS]B-.*$// if ! /-R[CS]B-/; s/^.*-R[CS]B-// if ! /-L[CS]B-/; s/-LRB-/(/g; s/-RRB-/)/g;' \\\n",
    "> {cbt_train_file}\n",
    "! echo \"Cleaning validation data\"\n",
    "! grep -v _BOOK_TITLE {data_path}/cbt_valid.txt | tqdm | \\\n",
    "perl -pe 's/-L[CS]B-.*?-R[CS]B-//g; s/-L[CS]B-.*$// if ! /-R[CS]B-/; s/^.*-R[CS]B-// if ! /-L[CS]B-/; s/-LRB-/(/g; s/-RRB-/)/g;' \\\n",
    " > {cbt_valid_file}"
   ]
  },
  {
   "cell_type": "code",
   "execution_count": 0,
   "metadata": {
    "colab": {},
    "colab_type": "code",
    "id": "ALlkuOc7lmk5"
   },
   "outputs": [],
   "source": [
    "# tqdm output makes colab chug or even lock up, so redirect to file\n",
    "# note you won't see any output as such\n",
    "# the training process takes around 30 minutes per epoch\n",
    "# changing model_name_or_path to gpt2-(medium|large|xl) will result\n",
    "# in better model performance with size/compute/training time tradeoffs\n",
    "# IMPORTANT NOTE: only the smallest model (gpt2) will run on any colab runtime\n",
    "# as of this writing due to memory constraints\n",
    "finetuning_output = \"/content/finetuning_output.txt\"\n",
    "! python transformers/examples/run_lm_finetuning.py \\\n",
    "    --output_dir=model \\\n",
    "    --model_type=gpt2 \\\n",
    "    --model_name_or_path=gpt2 \\\n",
    "    --do_train \\\n",
    "    --train_data_file={cbt_train_file} \\\n",
    "    --do_eval \\\n",
    "    --eval_data_file={cbt_valid_file} \\\n",
    "    --per_gpu_train_batch_size=2 \\\n",
    "    --per_gpu_eval_batch_size=2 \\\n",
    "    --evaluate_during_training \\\n",
    "    --logging_steps=200 \\\n",
    "    --save_steps=200 \\\n",
    "    --num_train_epochs=5 \\\n",
    "    &> {finetuning_output}"
   ]
  },
  {
   "cell_type": "code",
   "execution_count": 0,
   "metadata": {
    "colab": {
     "base_uri": "https://localhost:8080/",
     "height": 279
    },
    "colab_type": "code",
    "executionInfo": {
     "elapsed": 3307,
     "status": "ok",
     "timestamp": 1575316301834,
     "user": {
      "displayName": "Randy West",
      "photoUrl": "https://lh3.googleusercontent.com/a-/AAuE7mDIuiLm_tLYhXcxAUMOdxogEndwhWVgfR12ND5xrw=s64",
      "userId": "12093252501908892059"
     },
     "user_tz": 300
    },
    "id": "tvPPM5z5B_wh",
    "outputId": "94e0f44e-6e56-4651-faa7-7a6d0b587d62"
   },
   "outputs": [
    {
     "data": {
      "image/png": "[encoded data removed]",
      "text/plain": [
       "<Figure size 432x288 with 1 Axes>"
      ]
     },
     "metadata": {
      "tags": []
     },
     "output_type": "display_data"
    }
   ],
   "source": [
    "# plot perplexity. starts to overfit around 5 epochs\n",
    "\n",
    "import pandas as pd\n",
    "import matplotlib.pyplot as plt\n",
    "\n",
    "! grep perplexity {finetuning_output} | \\\n",
    "perl -ne 'print \"$$1\\n\" if /tensor\\((\\d+\\.\\d+)\\)/' > perplexity.csv\n",
    "\n",
    "perplexity = pd.read_csv(\"perplexity.csv\", names=[\"perplexity\"])\n",
    "perplexity.plot()\n",
    "plt.xlabel(\"batches (by 200)\")\n",
    "plt.ylabel(\"validation set perplexity\")\n",
    "plt.show()"
   ]
  },
  {
   "cell_type": "code",
   "execution_count": 0,
   "metadata": {
    "colab": {
     "base_uri": "https://localhost:8080/",
     "height": 921
    },
    "colab_type": "code",
    "executionInfo": {
     "elapsed": 29472,
     "status": "ok",
     "timestamp": 1575316488035,
     "user": {
      "displayName": "Randy West",
      "photoUrl": "https://lh3.googleusercontent.com/a-/AAuE7mDIuiLm_tLYhXcxAUMOdxogEndwhWVgfR12ND5xrw=s64",
      "userId": "12093252501908892059"
     },
     "user_tz": 300
    },
    "id": "1Ims15QC2kkG",
    "outputId": "dd25cdf6-6e6e-4268-fcd0-f61842f25560"
   },
   "outputs": [
    {
     "name": "stdout",
     "output_type": "stream",
     "text": [
      "12/02/2019 19:54:24 - INFO - transformers.tokenization_utils -   Model name './model' not found in model shortcut name list (gpt2, gpt2-medium, gpt2-large, gpt2-xl, distilgpt2). Assuming './model' is a path or url to a directory containing tokenizer files.\n",
      "12/02/2019 19:54:24 - INFO - transformers.tokenization_utils -   loading file ./model/vocab.json\n",
      "12/02/2019 19:54:24 - INFO - transformers.tokenization_utils -   loading file ./model/merges.txt\n",
      "12/02/2019 19:54:24 - INFO - transformers.tokenization_utils -   loading file ./model/added_tokens.json\n",
      "12/02/2019 19:54:24 - INFO - transformers.tokenization_utils -   loading file ./model/special_tokens_map.json\n",
      "12/02/2019 19:54:24 - INFO - transformers.tokenization_utils -   loading file ./model/tokenizer_config.json\n",
      "12/02/2019 19:54:24 - INFO - transformers.configuration_utils -   loading configuration file ./model/config.json\n",
      "12/02/2019 19:54:24 - INFO - transformers.configuration_utils -   Model config {\n",
      "  \"attn_pdrop\": 0.1,\n",
      "  \"embd_pdrop\": 0.1,\n",
      "  \"finetuning_task\": null,\n",
      "  \"initializer_range\": 0.02,\n",
      "  \"is_decoder\": false,\n",
      "  \"layer_norm_epsilon\": 1e-05,\n",
      "  \"n_ctx\": 1024,\n",
      "  \"n_embd\": 768,\n",
      "  \"n_head\": 12,\n",
      "  \"n_layer\": 12,\n",
      "  \"n_positions\": 1024,\n",
      "  \"num_labels\": 1,\n",
      "  \"output_attentions\": false,\n",
      "  \"output_hidden_states\": false,\n",
      "  \"output_past\": true,\n",
      "  \"pruned_heads\": {},\n",
      "  \"resid_pdrop\": 0.1,\n",
      "  \"summary_activation\": null,\n",
      "  \"summary_first_dropout\": 0.1,\n",
      "  \"summary_proj_to_labels\": true,\n",
      "  \"summary_type\": \"cls_index\",\n",
      "  \"summary_use_proj\": true,\n",
      "  \"torchscript\": false,\n",
      "  \"use_bfloat16\": false,\n",
      "  \"vocab_size\": 50257\n",
      "}\n",
      "\n",
      "12/02/2019 19:54:24 - INFO - transformers.modeling_utils -   loading weights file ./model/pytorch_model.bin\n",
      "12/02/2019 19:54:32 - INFO - __main__ -   Namespace(device=device(type='cuda'), length=500, model_name_or_path='./model', model_type='gpt2', n_gpu=1, no_cuda=False, num_samples=1, padding_text='', prompt='Once upon a time, Alice fell down a well, where she met a very curious rabbit.', repetition_penalty=1.0, seed=15634, stop_token=None, temperature=1.0, top_k=0, top_p=0.9, xlm_lang='')\n",
      "100% 500/500 [00:14<00:00, 34.55it/s]\n",
      "\n",
      "When she had come to a bare rock that lay in the middle of it she went up and told it to go down to the bottom of the well and set it there.\n",
      "The rabbit, who could not make any sound at the instant, thought this was the best place in the world for a sparrow, and he said ` Now she 'll have the better of it, and I 'll drive it to the bottom of the well and throw it in my basket. '\n",
      "Now, being hungry, Alice could not help feeling piteous at the thought of having to walk about like this to get any dinner, and so she stole down again, and saw a beautiful green one lying under a tree.\n",
      "She thanked the rabbit, who was very polite, and told her how she had been deceived by the wren, and that she now had the best one in the world.\n",
      "The rabbit, very politely, told her that the wren, as she was sure it was the very one who spoke the truth, meant to deliver a lecture on ` Power, Government, and the Laws of the Indies. '\n",
      "When the rabbit came out of the garden, and saw the beautiful green one lying under a tree, he started up at once and said ` Fly fast, my naughty fellow, for I have been so late! '\n",
      "And the poor creature, very slowly, turned in the direction of Alice's home, where she hoped to find the golden ball, but she could not find it there, and was so disappointed.\n",
      "Then she got a bit of tea in her mouth and wrote it down ; and next morning, while she was waiting for the ball, she noticed a queer little box beside her.\n",
      "It seemed to move so swiftly that it hardly touched her, and she cried out in pain : ` Oh!\n",
      "where is my golden ball?\n",
      "I thought it must have flown home! '\n",
      "And to her horror the box seemed to have fallen on its side and bound its sister with ropes, but as she looked round the room she saw that she was nearly in a piece ; for there was a bundle of feathers on her arm, which had not flown, and she exclaimed to the bird : ` Stop that nasty little thing! '\n",
      "The bird flew into the air, and after lifting her, they made themselves invisible by opening their shells and then gently dragging them away from her, as if they had flown away from a fairy or a\n"
     ]
    }
   ],
   "source": [
    "import random\n",
    "\n",
    "seed = random.randint(1,50000)\n",
    "length = 500\n",
    "prompt = \"Once upon a time, Alice fell down a well, where she met a very curious rabbit.\"\n",
    "! python transformers/examples/run_generation.py \\\n",
    "  --model_type=gpt2 \\\n",
    "  --model_name_or_path=\"./model\" \\\n",
    "  --prompt=\"{prompt}\" \\\n",
    "  --length={length} \\\n",
    "  --seed={seed}"
   ]
  },
  {
   "cell_type": "code",
   "execution_count": 0,
   "metadata": {
    "colab": {
     "base_uri": "https://localhost:8080/",
     "height": 122
    },
    "colab_type": "code",
    "executionInfo": {
     "elapsed": 31656,
     "status": "ok",
     "timestamp": 1575230784587,
     "user": {
      "displayName": "Randy West",
      "photoUrl": "https://lh3.googleusercontent.com/a-/AAuE7mDIuiLm_tLYhXcxAUMOdxogEndwhWVgfR12ND5xrw=s64",
      "userId": "12093252501908892059"
     },
     "user_tz": 300
    },
    "id": "DQe-ZWot_JAn",
    "outputId": "8f61bf3f-f7dd-4b6c-aaca-189ed5aa6e15"
   },
   "outputs": [
    {
     "name": "stdout",
     "output_type": "stream",
     "text": [
      "Go to this URL in a browser: https://accounts.google.com/o/oauth2/auth?client_id=947318989803-6bn6qk8qdgf4n4g3pfee6491hc0brc4i.apps.googleusercontent.com&redirect_uri=urn%3aietf%3awg%3aoauth%3a2.0%3aoob&response_type=code&scope=email%20https%3a%2f%2fwww.googleapis.com%2fauth%2fdocs.test%20https%3a%2f%2fwww.googleapis.com%2fauth%2fdrive%20https%3a%2f%2fwww.googleapis.com%2fauth%2fdrive.photos.readonly%20https%3a%2f%2fwww.googleapis.com%2fauth%2fpeopleapi.readonly\n",
      "\n",
      "Enter your authorization code:\n",
      "··········\n",
      "Mounted at /content/drive\n"
     ]
    }
   ],
   "source": [
    "from google.colab import drive\n",
    "drive.mount('/content/drive')"
   ]
  },
  {
   "cell_type": "code",
   "execution_count": 0,
   "metadata": {
    "colab": {},
    "colab_type": "code",
    "id": "sDeO3t21A9zf"
   },
   "outputs": [],
   "source": [
    "drive_dir = \"/content/drive/My Drive/Colab Notebooks/models/childrens-stories_fine-tuned_gpt2\"\n",
    "! rm -rf \"{drive_dir}\"\n",
    "! mkdir \"{drive_dir}\"\n",
    "! cp /content/model/*.json /content/model/*.txt /content/model/*.bin \"{drive_dir}\""
   ]
  },
  {
   "cell_type": "markdown",
   "metadata": {
    "colab_type": "text",
    "id": "u3pPir15-iqv"
   },
   "source": [
    "#Inference from Drive"
   ]
  },
  {
   "cell_type": "code",
   "execution_count": 0,
   "metadata": {
    "colab": {},
    "colab_type": "code",
    "id": "EVEqG2zv-uuY"
   },
   "outputs": [],
   "source": [
    "drive_dir = \"/content/drive/My Drive/Colab Notebooks/models/childrens-stories_fine-tuned_gpt2\""
   ]
  },
  {
   "cell_type": "code",
   "execution_count": 0,
   "metadata": {
    "colab": {
     "base_uri": "https://localhost:8080/",
     "height": 54
    },
    "colab_type": "code",
    "executionInfo": {
     "elapsed": 821,
     "status": "ok",
     "timestamp": 1575317306410,
     "user": {
      "displayName": "Randy West",
      "photoUrl": "https://lh3.googleusercontent.com/a-/AAuE7mDIuiLm_tLYhXcxAUMOdxogEndwhWVgfR12ND5xrw=s64",
      "userId": "12093252501908892059"
     },
     "user_tz": 300
    },
    "id": "6xSOkDsz_Cga",
    "outputId": "afc79bb4-b6dd-45ce-9635-bc34586bbc8c"
   },
   "outputs": [
    {
     "name": "stdout",
     "output_type": "stream",
     "text": [
      "Drive already mounted at /content/drive; to attempt to forcibly remount, call drive.mount(\"/content/drive\", force_remount=True).\n"
     ]
    }
   ],
   "source": [
    "from google.colab import drive\n",
    "drive.mount('/content/drive')"
   ]
  },
  {
   "cell_type": "code",
   "execution_count": 0,
   "metadata": {
    "colab": {
     "base_uri": "https://localhost:8080/",
     "height": 632
    },
    "colab_type": "code",
    "executionInfo": {
     "elapsed": 8017,
     "status": "ok",
     "timestamp": 1574618212737,
     "user": {
      "displayName": "Randy West",
      "photoUrl": "https://lh3.googleusercontent.com/a-/AAuE7mDIuiLm_tLYhXcxAUMOdxogEndwhWVgfR12ND5xrw=s64",
      "userId": "12093252501908892059"
     },
     "user_tz": 300
    },
    "id": "ChmUKrUbAgwL",
    "outputId": "5d098c2a-3848-4859-8cdb-a089f09ea088"
   },
   "outputs": [
    {
     "name": "stdout",
     "output_type": "stream",
     "text": [
      "Collecting transformers\n",
      "\u001b[?25l  Downloading https://files.pythonhosted.org/packages/fd/f9/51824e40f0a23a49eab4fcaa45c1c797cbf9761adedd0b558dab7c958b34/transformers-2.1.1-py3-none-any.whl (311kB)\n",
      "\u001b[K     |████████████████████████████████| 317kB 3.5MB/s \n",
      "\u001b[?25hCollecting sacremoses\n",
      "\u001b[?25l  Downloading https://files.pythonhosted.org/packages/1f/8e/ed5364a06a9ba720fddd9820155cc57300d28f5f43a6fd7b7e817177e642/sacremoses-0.0.35.tar.gz (859kB)\n",
      "\u001b[K     |████████████████████████████████| 860kB 42.5MB/s \n",
      "\u001b[?25hCollecting sentencepiece\n",
      "\u001b[?25l  Downloading https://files.pythonhosted.org/packages/14/3d/efb655a670b98f62ec32d66954e1109f403db4d937c50d779a75b9763a29/sentencepiece-0.1.83-cp36-cp36m-manylinux1_x86_64.whl (1.0MB)\n",
      "\u001b[K     |████████████████████████████████| 1.0MB 31.2MB/s \n",
      "\u001b[?25hCollecting regex\n",
      "\u001b[?25l  Downloading https://files.pythonhosted.org/packages/e3/8e/cbf2295643d7265e7883326fb4654e643bfc93b3a8a8274d8010a39d8804/regex-2019.11.1-cp36-cp36m-manylinux1_x86_64.whl (643kB)\n",
      "\u001b[K     |████████████████████████████████| 645kB 36.2MB/s \n",
      "\u001b[?25hRequirement already satisfied: requests in /usr/local/lib/python3.6/dist-packages (from transformers) (2.21.0)\n",
      "Requirement already satisfied: boto3 in /usr/local/lib/python3.6/dist-packages (from transformers) (1.10.18)\n",
      "Requirement already satisfied: tqdm in /usr/local/lib/python3.6/dist-packages (from transformers) (4.28.1)\n",
      "Requirement already satisfied: numpy in /usr/local/lib/python3.6/dist-packages (from transformers) (1.17.4)\n",
      "Requirement already satisfied: six in /usr/local/lib/python3.6/dist-packages (from sacremoses->transformers) (1.12.0)\n",
      "Requirement already satisfied: click in /usr/local/lib/python3.6/dist-packages (from sacremoses->transformers) (7.0)\n",
      "Requirement already satisfied: joblib in /usr/local/lib/python3.6/dist-packages (from sacremoses->transformers) (0.14.0)\n",
      "Requirement already satisfied: chardet<3.1.0,>=3.0.2 in /usr/local/lib/python3.6/dist-packages (from requests->transformers) (3.0.4)\n",
      "Requirement already satisfied: certifi>=2017.4.17 in /usr/local/lib/python3.6/dist-packages (from requests->transformers) (2019.9.11)\n",
      "Requirement already satisfied: urllib3<1.25,>=1.21.1 in /usr/local/lib/python3.6/dist-packages (from requests->transformers) (1.24.3)\n",
      "Requirement already satisfied: idna<2.9,>=2.5 in /usr/local/lib/python3.6/dist-packages (from requests->transformers) (2.8)\n",
      "Requirement already satisfied: s3transfer<0.3.0,>=0.2.0 in /usr/local/lib/python3.6/dist-packages (from boto3->transformers) (0.2.1)\n",
      "Requirement already satisfied: botocore<1.14.0,>=1.13.18 in /usr/local/lib/python3.6/dist-packages (from boto3->transformers) (1.13.18)\n",
      "Requirement already satisfied: jmespath<1.0.0,>=0.7.1 in /usr/local/lib/python3.6/dist-packages (from boto3->transformers) (0.9.4)\n",
      "Requirement already satisfied: docutils<0.16,>=0.10 in /usr/local/lib/python3.6/dist-packages (from botocore<1.14.0,>=1.13.18->boto3->transformers) (0.15.2)\n",
      "Requirement already satisfied: python-dateutil<2.8.1,>=2.1; python_version >= \"2.7\" in /usr/local/lib/python3.6/dist-packages (from botocore<1.14.0,>=1.13.18->boto3->transformers) (2.6.1)\n",
      "Building wheels for collected packages: sacremoses\n",
      "  Building wheel for sacremoses (setup.py) ... \u001b[?25l\u001b[?25hdone\n",
      "  Created wheel for sacremoses: filename=sacremoses-0.0.35-cp36-none-any.whl size=883999 sha256=d03a8e5ea483a34aa58360ec46602cb28295e1a4a9fc8445fb1ceb979353d671\n",
      "  Stored in directory: /root/.cache/pip/wheels/63/2a/db/63e2909042c634ef551d0d9ac825b2b0b32dede4a6d87ddc94\n",
      "Successfully built sacremoses\n",
      "Installing collected packages: sacremoses, sentencepiece, regex, transformers\n",
      "Successfully installed regex-2019.11.1 sacremoses-0.0.35 sentencepiece-0.1.83 transformers-2.1.1\n"
     ]
    }
   ],
   "source": [
    "! pip install transformers"
   ]
  },
  {
   "cell_type": "code",
   "execution_count": 0,
   "metadata": {
    "colab": {
     "base_uri": "https://localhost:8080/",
     "height": 136
    },
    "colab_type": "code",
    "executionInfo": {
     "elapsed": 3956,
     "status": "ok",
     "timestamp": 1574618215718,
     "user": {
      "displayName": "Randy West",
      "photoUrl": "https://lh3.googleusercontent.com/a-/AAuE7mDIuiLm_tLYhXcxAUMOdxogEndwhWVgfR12ND5xrw=s64",
      "userId": "12093252501908892059"
     },
     "user_tz": 300
    },
    "id": "mH24uyEtAdoi",
    "outputId": "13839b3f-2926-49e6-81a5-0d1726b4569b"
   },
   "outputs": [
    {
     "name": "stdout",
     "output_type": "stream",
     "text": [
      "Cloning into 'transformers'...\n",
      "remote: Enumerating objects: 70, done.\u001b[K\n",
      "remote: Counting objects: 100% (70/70), done.\u001b[K\n",
      "remote: Compressing objects: 100% (40/40), done.\u001b[K\n",
      "remote: Total 12479 (delta 38), reused 52 (delta 30), pack-reused 12409\u001b[K\n",
      "Receiving objects: 100% (12479/12479), 6.56 MiB | 20.47 MiB/s, done.\n",
      "Resolving deltas: 100% (9130/9130), done.\n"
     ]
    }
   ],
   "source": [
    "! rm -rf transformers\n",
    "# enhanced to use past with GPT-2. not actively maintained,\n",
    "# so fall out of sync with the hugging face repo quickly.\n",
    "# past actually doesn't make a huge difference on GPU anyways,\n",
    "# but it's a huge speedup on CPU\n",
    "! git clone https://github.com/thisisrandy/transformers.git"
   ]
  },
  {
   "cell_type": "code",
   "execution_count": 0,
   "metadata": {
    "colab": {
     "base_uri": "https://localhost:8080/",
     "height": 1000
    },
    "colab_type": "code",
    "executionInfo": {
     "elapsed": 27581,
     "status": "ok",
     "timestamp": 1575317540207,
     "user": {
      "displayName": "Randy West",
      "photoUrl": "https://lh3.googleusercontent.com/a-/AAuE7mDIuiLm_tLYhXcxAUMOdxogEndwhWVgfR12ND5xrw=s64",
      "userId": "12093252501908892059"
     },
     "user_tz": 300
    },
    "id": "VhvZeUtX_ERE",
    "outputId": "523d8836-3926-4cd7-cb75-e7ee08246a03"
   },
   "outputs": [
    {
     "name": "stdout",
     "output_type": "stream",
     "text": [
      "12/02/2019 20:11:56 - INFO - transformers.tokenization_utils -   Model name '/content/drive/My Drive/Colab Notebooks/models/childrens-stories_fine-tuned_gpt2' not found in model shortcut name list (gpt2, gpt2-medium, gpt2-large, gpt2-xl, distilgpt2). Assuming '/content/drive/My Drive/Colab Notebooks/models/childrens-stories_fine-tuned_gpt2' is a path or url to a directory containing tokenizer files.\n",
      "12/02/2019 20:11:56 - INFO - transformers.tokenization_utils -   loading file /content/drive/My Drive/Colab Notebooks/models/childrens-stories_fine-tuned_gpt2/vocab.json\n",
      "12/02/2019 20:11:56 - INFO - transformers.tokenization_utils -   loading file /content/drive/My Drive/Colab Notebooks/models/childrens-stories_fine-tuned_gpt2/merges.txt\n",
      "12/02/2019 20:11:56 - INFO - transformers.tokenization_utils -   loading file /content/drive/My Drive/Colab Notebooks/models/childrens-stories_fine-tuned_gpt2/added_tokens.json\n",
      "12/02/2019 20:11:56 - INFO - transformers.tokenization_utils -   loading file /content/drive/My Drive/Colab Notebooks/models/childrens-stories_fine-tuned_gpt2/special_tokens_map.json\n",
      "12/02/2019 20:11:56 - INFO - transformers.tokenization_utils -   loading file /content/drive/My Drive/Colab Notebooks/models/childrens-stories_fine-tuned_gpt2/tokenizer_config.json\n",
      "12/02/2019 20:11:56 - INFO - transformers.configuration_utils -   loading configuration file /content/drive/My Drive/Colab Notebooks/models/childrens-stories_fine-tuned_gpt2/config.json\n",
      "12/02/2019 20:11:56 - INFO - transformers.configuration_utils -   Model config {\n",
      "  \"attn_pdrop\": 0.1,\n",
      "  \"embd_pdrop\": 0.1,\n",
      "  \"finetuning_task\": null,\n",
      "  \"initializer_range\": 0.02,\n",
      "  \"is_decoder\": false,\n",
      "  \"layer_norm_epsilon\": 1e-05,\n",
      "  \"n_ctx\": 1024,\n",
      "  \"n_embd\": 768,\n",
      "  \"n_head\": 12,\n",
      "  \"n_layer\": 12,\n",
      "  \"n_positions\": 1024,\n",
      "  \"num_labels\": 1,\n",
      "  \"output_attentions\": false,\n",
      "  \"output_hidden_states\": false,\n",
      "  \"output_past\": true,\n",
      "  \"pruned_heads\": {},\n",
      "  \"resid_pdrop\": 0.1,\n",
      "  \"summary_activation\": null,\n",
      "  \"summary_first_dropout\": 0.1,\n",
      "  \"summary_proj_to_labels\": true,\n",
      "  \"summary_type\": \"cls_index\",\n",
      "  \"summary_use_proj\": true,\n",
      "  \"torchscript\": false,\n",
      "  \"use_bfloat16\": false,\n",
      "  \"vocab_size\": 50257\n",
      "}\n",
      "\n",
      "12/02/2019 20:11:56 - INFO - transformers.modeling_utils -   loading weights file /content/drive/My Drive/Colab Notebooks/models/childrens-stories_fine-tuned_gpt2/pytorch_model.bin\n",
      "12/02/2019 20:12:04 - INFO - __main__ -   Namespace(device=device(type='cuda'), length=500, model_name_or_path='/content/drive/My Drive/Colab Notebooks/models/childrens-stories_fine-tuned_gpt2', model_type='gpt2', n_gpu=1, no_cuda=False, num_samples=1, padding_text='', prompt='Once upon a time, Alice fell down a well, where she met a very curious rabbit.', repetition_penalty=1.0, seed=40479, stop_token=None, temperature=1.0, top_k=0, top_p=0.9, xlm_lang='')\n",
      "100% 500/500 [00:13<00:00, 35.95it/s]\n",
      "\n",
      "` What is it? '\n",
      "asked Alice, in a puzzled voice.\n",
      "` Oh, it's quite an odd rabbit! '\n",
      "said the rabbit.\n",
      "` Oh, how funny! '\n",
      "said Alice to herself ; and the rabbit fell down more in surprise than before, still peeping out of the well.\n",
      "` It is all very curious,'said Alice to herself, as she went on, ` and the rabbit must be VERY curious. '\n",
      "Now, in order to tell the truth, the rabbit didn't eat at all, and she didn't even let her nose go very far.\n",
      "` What sort of a rabbit do you want? '\n",
      "` Oh, I don't know,'said Alice, ` only I wish that I had a bit of a face ; and I don't feel a bit like having one,'and she went on.\n",
      "` But I am not afraid! '\n",
      "thought Alice, quite puzzled.\n",
      "` What is the matter with you? '\n",
      "asked the rabbit again.\n",
      "` Oh, I am afraid,'said Alice.\n",
      "` Ah, then you must have a whole basketful of gooseberry jam,'said the rabbit, yawning.\n",
      "` Oh, well, you may try that,'said Alice ; ` but first you must give it to the poor duck that came with the jam.\n",
      "She will thank you very much indeed,'and she took out the kitten with the gooseberry jam, and set out for the Duck house.\n",
      "In a short time she came upon a duck!\n",
      "` Why, that duck has no neck,'said Alice ; and the duck jumped up, and looked very uncomfortable indeed.\n",
      "` The duck is VERY fine,'said the rabbit, and he turned back to the house.\n",
      "Alice looked at the rabbit, who sat on the doorstep watching the queer duck.\n",
      "` Well, it must be something else,'thought she ; ` maybe she can show me some of the violets. '\n",
      "` What is this,'said the rabbit.\n",
      "` Oh, I don't know! '\n",
      "thought Alice, quite puzzled.\n",
      "` What sort of a duck is she? '\n",
      "` Oh, that is always a queer duck, and always so queer! '\n",
      "she said ; and she went on.\n",
      "` She is a very lovely duck! '\n",
      "thought Alice\n"
     ]
    }
   ],
   "source": [
    "import random\n",
    "\n",
    "seed = random.randint(1,50000)\n",
    "length = 500\n",
    "prompt = \"Once upon a time, Alice fell down a well, where she met a very curious rabbit.\"\n",
    "! python transformers/examples/run_generation.py \\\n",
    "  --model_type=gpt2 \\\n",
    "  --model_name_or_path=\"{drive_dir}\" \\\n",
    "  --prompt=\"{prompt}\" \\\n",
    "  --length={length} \\\n",
    "  --seed={seed}"
   ]
  }
 ],
 "metadata": {
  "accelerator": "GPU",
  "colab": {
   "collapsed_sections": [],
   "name": "tell-me-a-story_gpt2.ipynb",
   "provenance": [
    {
     "file_id": "https://github.com/thisisrandy/tell-me-a-story/blob/master/backend/tell-me-a-story_gpt2.ipynb",
     "timestamp": 1575229423031
    }
   ],
   "toc_visible": true
  },
  "jupytext": {
   "main_language": "python"
  },
  "kernelspec": {
   "display_name": "Python 3",
   "name": "python3"
  }
 },
 "nbformat": 4,
 "nbformat_minor": 2
}
